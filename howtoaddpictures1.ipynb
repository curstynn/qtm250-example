{
  "nbformat": 4,
  "nbformat_minor": 0,
  "metadata": {
    "colab": {
      "name": "howtoaddpictures1.ipynb",
      "provenance": [],
      "authorship_tag": "ABX9TyMmm0szcsE+WCVFBrWH9r7R",
      "include_colab_link": true
    },
    "kernelspec": {
      "name": "python3",
      "display_name": "Python 3"
    },
    "language_info": {
      "name": "python"
    }
  },
  "cells": [
    {
      "cell_type": "markdown",
      "metadata": {
        "id": "view-in-github",
        "colab_type": "text"
      },
      "source": [
        "<a href=\"https://colab.research.google.com/github/curstynn/qtm250-example/blob/main/howtoaddpictures1.ipynb\" target=\"_parent\"><img src=\"https://colab.research.google.com/assets/colab-badge.svg\" alt=\"Open In Colab\"/></a>"
      ]
    },
    {
      "cell_type": "code",
      "execution_count": 2,
      "metadata": {
        "id": "4GNAZszRvj_1"
      },
      "outputs": [],
      "source": [
        "## how to include a picture\n"
      ]
    },
    {
      "cell_type": "code",
      "source": [
        "![profile](https://github.com/jeremyallenjacobson/qtm250-example/blob/main/BandW-profile.jpg?raw=true)\n"
      ],
      "metadata": {
        "colab": {
          "base_uri": "https://localhost:8080/"
        },
        "id": "DVLn3nSAvpvV",
        "outputId": "e1d7f80e-cd5e-420e-909f-4c38c3a5bb14"
      },
      "execution_count": 3,
      "outputs": [
        {
          "output_type": "stream",
          "name": "stdout",
          "text": [
            "/bin/bash: -c: line 0: syntax error near unexpected token `https://github.com/jeremyallenjacobson/qtm250-example/blob/main/BandW-profile.jpg?raw=true'\n",
            "/bin/bash: -c: line 0: `[profile](https://github.com/jeremyallenjacobson/qtm250-example/blob/main/BandW-profile.jpg?raw=true)'\n"
          ]
        }
      ]
    },
    {
      "cell_type": "markdown",
      "source": [
        "![profile](https://github.com/jeremyallenjacobson/qtm250-example/blob/main/BandW-profile.jpg?raw=true)\n"
      ],
      "metadata": {
        "id": "ZLxlOy9awIio"
      }
    }
  ]
}